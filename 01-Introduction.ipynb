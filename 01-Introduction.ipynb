{
 "cells": [
  {
   "cell_type": "markdown",
   "metadata": {},
   "source": [
    "# Praktikum Teknik NGS\n",
    "\n",
    "- Pada praktikum ini, mahasiswa akan melakukan analisis NGS (masing-masing 1 sampel):\n",
    "    - Analisis variant calling ([Breast Cancer](https://www.ncbi.nlm.nih.gov/bioproject/PRJNA606794), [Pancreatic Cancer](https://www.ncbi.nlm.nih.gov/bioproject/644607), [NSCLC](https://www.ncbi.nlm.nih.gov/bioproject/801361), [Colorectal cancer](https://www.ncbi.nlm.nih.gov/bioproject/319560), [Liver cancer](https://www.ncbi.nlm.nih.gov/bioproject/416395))\n",
    "    - Analisis Whole Genome Sequencing (WGS) bakteri Escherichia coli ([Mayo clinic](https://www.ncbi.nlm.nih.gov/bioproject/736958)) dan Klebsiella pneumoniae [Cho Ray Hospital](https://www.ncbi.nlm.nih.gov/bioproject/1215993)))\n",
    "    - Analisis Whole Genome Sequencing SARS-CoV-2\n",
    "    - Analisis microbiome\n",
    "    - Analisis RNA-seq\n",
    "    \n"
   ]
  },
  {
   "cell_type": "markdown",
   "metadata": {},
   "source": [
    "- Praktikum dilaksanakan menggunakan Secure Shell App (Google Chrome) atau terminal (for Mac)\n",
    " \n",
    "- Login dengan menggunakan akun masing-masing yang telah diberikan\n",
    "\n",
    "- Direktori penting:\n",
    "    - Reference untuk variant calling: /home/ref/\n",
    "    - Reference untuk WGS: /home/data_latihan/wgs/Reference/\n",
    "    - software Trimmomatic: Trimmomatic-0.39/trimmomatic-0.39.jar\n",
    "    - software snpEff: /home/snpEff/snpEff.jar\n",
    "    - software snpSift: /home/snpEff/SnpSift.jar\n",
    "    \n",
    "- Semua output wajib disimpan di dalam folder masing-masing. \n",
    "    Contoh:\n",
    "    - pada akun dengan username: midnight_owl,\n",
    "    - buat folder dengan nama masing-masing (contoh: folder 'Fika'),   \n",
    "    - buat folder untuk masing-masing pengerjaan:\n",
    "        Fika\n",
    "            variant_calling\n",
    "                pancreatic\n",
    "                    sample1\n",
    "                    sample2\n",
    "                colorectal\n",
    "                    sample3\n",
    "                    sample4\n",
    "            WGS\n",
    "                mayo\n",
    "                    sample1\n",
    "                    sample2\n",
    "                rscm\n",
    "                    sample3\n",
    "                    sample4\n",
    "    - semua output akan disimpan dalam folder parent 'Fika'\n",
    "        contoh: akan menyimpan untuk output analisis BRCA3 pada analisis variant calling:\n",
    "        Fika/variant calling/BRCA3/(nama file)"
   ]
  },
  {
   "cell_type": "markdown",
   "metadata": {},
   "source": []
  },
  {
   "cell_type": "code",
   "execution_count": null,
   "metadata": {},
   "outputs": [],
   "source": []
  },
  {
   "cell_type": "code",
   "execution_count": null,
   "metadata": {},
   "outputs": [],
   "source": []
  }
 ],
 "metadata": {
  "kernelspec": {
   "display_name": "Python 3",
   "language": "python",
   "name": "python3"
  },
  "language_info": {
   "codemirror_mode": {
    "name": "ipython",
    "version": 3
   },
   "file_extension": ".py",
   "mimetype": "text/x-python",
   "name": "python",
   "nbconvert_exporter": "python",
   "pygments_lexer": "ipython3",
   "version": "3.8.5"
  }
 },
 "nbformat": 4,
 "nbformat_minor": 4
}
