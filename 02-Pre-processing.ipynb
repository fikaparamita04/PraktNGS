{
 "cells": [
  {
   "cell_type": "markdown",
   "metadata": {},
   "source": [
    "Credit: Some of the content in this script were taken from https://github.com/kennethban/bwf2020/tree/master/02%20-%20Alignment%2C%20Variant%20Calling%2C%20and%20Annotation\n",
    "\n",
    "# Variant Calling\n",
    "\n",
    "## Overview of variant calling workflow:\n",
    "\n",
    "<img src=\"images/pipeline.png\"/>\n",
    "\n",
    "<center> Bolser, DM. A Simple SNP Calling Pipeline. Cited from https://www.ebi.ac.uk/sites/ebi.ac.uk/files/content.ebi.ac.uk/materials/2014/140217_AgriOmics/dan_bolser_snp_calling.pdf </center>\n",
    "\n",
    "\n",
    "## Sequences collection and QC check\n",
    "\n",
    "(We will skip this process, Direct to Sequences Trimming)"
   ]
  },
  {
   "cell_type": "code",
   "execution_count": null,
   "metadata": {},
   "outputs": [],
   "source": []
  },
  {
   "cell_type": "markdown",
   "metadata": {},
   "source": [
    "### Download the raw fastq files\n",
    "\n",
    "We can download the raw fastq file on SRA website under Bioproject PRJNA606794 https://www.ncbi.nlm.nih.gov/sra?linkname=bioproject_sra_all&from_uid=606794"
   ]
  },
  {
   "cell_type": "markdown",
   "metadata": {},
   "source": [
    "Download the raw fastq files using SRA-toolkit https://ncbi.github.io/sra-tools/fastq-dump.html"
   ]
  },
  {
   "cell_type": "code",
   "execution_count": null,
   "metadata": {},
   "outputs": [],
   "source": [
    "fastq-dump --split-files <SRR-acession-number> -O <path-to-output-directory>"
   ]
  },
  {
   "cell_type": "markdown",
   "metadata": {},
   "source": [
    "Example:"
   ]
  },
  {
   "cell_type": "code",
   "execution_count": null,
   "metadata": {},
   "outputs": [],
   "source": [
    "fastq-dump --split-files SRR12165154 -O Fika/variant_calling/BRCA3/"
   ]
  },
  {
   "cell_type": "markdown",
   "metadata": {},
   "source": [
    "This script will give paired-end fastq files:\n",
    "SRR14149065_1.fastq\n",
    "SRR14149065_2.fastq"
   ]
  },
  {
   "cell_type": "markdown",
   "metadata": {},
   "source": [
    "### Download the human reference genome sequence\n",
    "\n",
    "We can download the human reference genome sequences in https://asia.ensembl.org/Homo_sapiens/Info/Index"
   ]
  },
  {
   "cell_type": "markdown",
   "metadata": {},
   "source": [
    "Let us look at the files that will be used\n",
    "\n",
    "- `Homo_sapiens.GRCh38.dna.primary_assembly.fa` - the human reference genome (hg38)\n",
    "- `SRR14149065_1.fastq` and `SRR14149065_2.fastq' - the sample sequences"
   ]
  },
  {
   "cell_type": "markdown",
   "metadata": {},
   "source": [
    "### Taking a peek at the reference fasta file"
   ]
  },
  {
   "cell_type": "code",
   "execution_count": null,
   "metadata": {
    "collapsed": false,
    "jupyter": {
     "outputs_hidden": false
    }
   },
   "outputs": [],
   "source": [
    "head /home/ref/Homo_sapiens.GRCh38.dna.primary_assembly.fa"
   ]
  },
  {
   "cell_type": "markdown",
   "metadata": {},
   "source": [
    "The fasta format is quite simple. The first line is the identifier which starts with '>'\n",
    "\n",
    "The subsequent lines are DNA sequences."
   ]
  },
  {
   "cell_type": "markdown",
   "metadata": {},
   "source": [
    "### Taking a look at the query sequence file (first 4 lines)"
   ]
  },
  {
   "cell_type": "markdown",
   "metadata": {},
   "source": [
    "#### One sequence in a fastq file consists of 4 lines. \n",
    "\n",
    "- Line 1 - sequence identifier (starts with @)\n",
    "- Line 2 - DNA sequence\n",
    "- Line 3 - sequence identifier (starts with +)\n",
    "- Line 4 - corresponding quality score (Phred score 0-93 + 33)\n",
    "\n",
    "For the quality score, the following characters encode the lowest to highest scores\n",
    "\n",
    "<pre> !\"#$%&'()*+,-./0123456789:;<=>?@ABCDEFGHIJKLMNOPQRSTUVWXYZ[\\]^_`abcdefghijklmnopqrstuvwxyz{|}~ </pre>\n",
    "\n",
    "For more information, see https://en.wikipedia.org/wiki/FASTQ_format\n"
   ]
  },
  {
   "cell_type": "markdown",
   "metadata": {},
   "source": [
    "### Checking the quality of the FASTQ sequences\n",
    "\n",
    "It is a good practice to check the quality of the sequences by plotting the quality (Q) scores by the position. In general, a Q score of > 30 is good.\n",
    "\n",
    "To generate a plot, we will use `fastQC` "
   ]
  },
  {
   "cell_type": "markdown",
   "metadata": {},
   "source": [
    "- Install on your laptop. Download on: (https://www.bioinformatics.babraham.ac.uk/projects/fastqc/)"
   ]
  },
  {
   "cell_type": "markdown",
   "metadata": {},
   "source": [
    "- The analysis modules can be seen on https://www.bioinformatics.babraham.ac.uk/projects/fastqc/Help/3%20Analysis%20Modules/\n",
    "- Example of good data: https://www.bioinformatics.babraham.ac.uk/projects/fastqc/good_sequence_short_fastqc.html\n",
    "- Example of bad data: https://www.bioinformatics.babraham.ac.uk/projects/fastqc/bad_sequence_fastqc.html"
   ]
  },
  {
   "cell_type": "markdown",
   "metadata": {},
   "source": [
    "## Trimming the fastq sequences\n",
    "\n",
    "Trimmomatic is a fast, multithreaded command line tool that can be used to trim and crop Illumina (FASTQ) data as well as to remove adapters. These adapters can pose a real problem depending on the library preparation and downstream application.\n",
    "\n",
    "There are two major modes of the program: Paired end mode and Single end mode. The paired end mode will maintain correspondence of read pairs and also use the additional information contained in paired reads to better find adapter or PCR primer fragments introduced by the library preparation process.\n",
    "\n",
    "Trimmomatic works with FASTQ files, Files compressed using either „gzip‟ or „bzip2‟ are supported, and are identified by use of „.gz‟ or „.bz2‟ file extensions.\n",
    "\n",
    "Trimmomatic performs a variety of useful trimming tasks for illumina paired-end and single ended data. The selection of trimming steps and their associated parameters are supplied on the command line.\n",
    "\n",
    "The current trimming steps are:\n",
    "- ILLUMINACLIP: Cut adapter and other illumina-specific sequences from the read. SLIDINGWINDOW: Performs a sliding window trimming approach. It starts scanning at the 5‟ end and clips the read once the average quality within the window falls below a threshold.\n",
    "- MAXINFO: An adaptive quality trimmer which balances read length and error rate to maximise the value of each read\n",
    "- LEADING: Cut bases off the start of a read, if below a threshold quality\n",
    "- TRAILING: Cut bases off the end of a read, if below a threshold quality\n",
    "- CROP: Cut the read to a specified length by removing bases from the end HEADCROP: Cut the specified number of bases from the start of the read MINLEN: Drop the read if it is below a specified length\n",
    "- AVGQUAL: Drop the read if the average quality is below the specified level\n",
    "\n",
    "For more information, you can go to: http://www.usadellab.org/cms/?page=trimmomatic"
   ]
  },
  {
   "cell_type": "markdown",
   "metadata": {},
   "source": [
    "### Paired End Mode"
   ]
  },
  {
   "cell_type": "markdown",
   "metadata": {},
   "source": [
    "For paired-end data, two input files, and 4 output files are specified, 2 for the 'paired' output where both reads survived the processing, and 2 for corresponding 'unpaired' output where a read survived, but the partner read did not."
   ]
  },
  {
   "cell_type": "markdown",
   "metadata": {},
   "source": [
    "Command for paired-end trimming:\n",
    "\n",
    "java -jar <path-to-file-trimmomatic-0.35.jar> PE -phred33 <path-to-file-input_R1.fq.gz> <path-to-file-input_R2.fq.gz> <path-to-file-output_1P.fq.gz> <path-to-file-output_1U.fq.gz> <path-to-file-output_2P.fq.gz> <path-to-file-output_2U.fq.gz> (set-of-trimming-parameters)"
   ]
  },
  {
   "cell_type": "markdown",
   "metadata": {},
   "source": [
    "Example for variant calling:"
   ]
  },
  {
   "cell_type": "markdown",
   "metadata": {},
   "source": [
    "java -jar Trimmomatic-0.39/trimmomatic-0.39.jar PE -phred33 /home/data_latihan/variant_calling/BRCA_3_CMNH_17_1P.fastq.gz /home/data_latihan/variant_calling/BRCA_3_CMNH_17_2P.fastq.gz Fika/variant_calling/BRCA3/BRCA_3_1P.fastq Fika/variant_calling/BRCA3/BRCA_3_1U.fastq Fika/variant_calling/BRCA3/BRCA_3_2P.fastq Fika/variant_calling/BRCA3/BRCA_3_2U.fastq LEADING:3 TRAILING:3 SLIDINGWINDOW:4:15 MINLEN:50"
   ]
  },
  {
   "cell_type": "markdown",
   "metadata": {},
   "source": [
    "Example for WGS:"
   ]
  },
  {
   "cell_type": "markdown",
   "metadata": {},
   "source": [
    "java -jar Trimmomatic-0.39/trimmomatic-0.39.jar PE -phred33 /home/data_latihan/wgs/wgs/sample1_S1_L001_R1_001.fastq.gz /home/data_latihan/wgs/wgs/sample1_S1_L001_R2_001.fastq.gz Fika/wgs/sample1/sample1_1P.fastq Fika/wgs/sample1/sample1_1U.fastq Fika/wgs/sample1/sample1_2P.fastq Fika/wgs/sample1/sample1_2U.fastq LEADING:3 TRAILING:3 SLIDINGWINDOW:4:18 MINLEN:50"
   ]
  }
 ],
 "metadata": {
  "kernelspec": {
   "display_name": "Python 3",
   "language": "python",
   "name": "python3"
  },
  "language_info": {
   "codemirror_mode": {
    "name": "ipython",
    "version": 3
   },
   "file_extension": ".py",
   "mimetype": "text/x-python",
   "name": "python",
   "nbconvert_exporter": "python",
   "pygments_lexer": "ipython3",
   "version": "3.8.5"
  }
 },
 "nbformat": 4,
 "nbformat_minor": 4
}
