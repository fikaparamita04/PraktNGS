{
 "cells": [
  {
   "cell_type": "markdown",
   "metadata": {},
   "source": [
    "# Whole Genome Sequencing of Escherichia coli"
   ]
  },
  {
   "cell_type": "markdown",
   "metadata": {},
   "source": [
    "## Genome assembly using SPAdes\n",
    "\n",
    "- De novo assembly is the process of merging overlapping sequence reads into contiguous sequences (contigs) without the use of any reference genome as a guide.\n",
    "\n",
    "- SPAdes—St. Petersburg genome Assembler—was originally developed for de novo assembly of genome sequencing data produced for cultivated microbial isolates and for single-cell genomic DNA sequencing.\n",
    "\n",
    "- Initially, SPAdes was designed for assembly of bacterial genomes from short Illumina reads, obtained via single-cell MDA or conventional isolate sequencing.\n",
    "\n",
    "- With time, the functionality of SPAdes was extended to enable assembly of IonTorrent data, as well as hybrid assembly from short and long reads (PacBio and Oxford Nanopore).\n",
    "\n",
    "\n",
    "\n",
    "(Cited from: Prjibelski, A., Antipov, D., Meleshko, D., Lapidus, A., & Korobeynikov, A. (2020). Using SPAdes de novo assembler. Current Protocols in Bioinformatics, 70, e102. doi:10.1002/cpbi.102)"
   ]
  },
  {
   "cell_type": "code",
   "execution_count": null,
   "metadata": {},
   "outputs": [],
   "source": [
    "![](https://bacpathgenomics.files.wordpress.com/2013/04/figure1_velvet.png)"
   ]
  },
  {
   "cell_type": "markdown",
   "metadata": {},
   "source": [
    "- SPAdes starts its assembly pipeline by constructing a de Bruijn graph from short reads. When using a de Bruijn graph assembler, a number of variables need to be considered in order to produce optimal contigs. \n",
    "\n",
    "- The key issue is selecting an appropriate k-mer length for building the de Bruijn graph. Different sequencing platforms produce fragments of differing length and quality, meaning very different ranges of k-mers will be better suited to different types of read sets. \n",
    "\n",
    "- A balance must be found between the sensitivity offered by a smaller k-mer against the specificity of a larger one.\n"
   ]
  },
  {
   "cell_type": "markdown",
   "metadata": {},
   "source": [
    "- Once a set of contigs have been assembled from the sequencing reads, the next step is to order those contigs against a suitable reference genome. \n",
    "\n",
    "- This may seems counter-intuitive at first as we have applied de novo assembly to obtain these contigs, but ordering the contigs aids the discovery and comparison process.\n",
    "\n",
    "- The best reference to use is usually the most closely related bacterium with a ‘finished’ genome, but as in the case of E. coli finding the best reference may itself involve trial and error.\n",
    "\n",
    "(cited from: Edwards and Holt Microbial Informatics and Experimentation 2013, 3:2)"
   ]
  },
  {
   "cell_type": "code",
   "execution_count": null,
   "metadata": {},
   "outputs": [],
   "source": []
  },
  {
   "cell_type": "markdown",
   "metadata": {},
   "source": [
    "Website: Download and install SPAdes from http://cab.spbu.ru/software/spades/.\n",
    "\n",
    "Instructional Reference: SPAdes manual (https://cab.spbu.ru/files/release3.15.2/manual.html)\n",
    "\n",
    "Inputs: forward and reverse read sequences file (fastq format)"
   ]
  },
  {
   "cell_type": "code",
   "execution_count": null,
   "metadata": {},
   "outputs": [],
   "source": [
    "spades.py"
   ]
  },
  {
   "cell_type": "markdown",
   "metadata": {},
   "source": [
    "spades.py -o Fika/wgs/sample1/sample1_assembly -1 Fika/wgs/sample1/sample1_1P.fastq -2 Fika/wgs/sample1/sample1_2P.fastq --careful -t 3"
   ]
  },
  {
   "cell_type": "markdown",
   "metadata": {},
   "source": [
    "## Scaffold Generation using Mauve\n",
    "\n",
    "### We will skip this process. Just nice to know"
   ]
  },
  {
   "cell_type": "markdown",
   "metadata": {},
   "source": [
    "- Once a set of contigs have been assembled from the sequencing reads, the next step is to order those contigs against a suitable reference genome. \n",
    "\n",
    "- This may seems counter-intuitive at first as we have applied de novo assembly to obtain these contigs, but ordering the contigs aids the discovery and comparison process. \n",
    "\n",
    "- The best reference to use is usually the most closely related bacterium with a ‘finished’ genome, finding the best reference may itself involve trial and error"
   ]
  },
  {
   "cell_type": "markdown",
   "metadata": {},
   "source": [
    "\n",
    "![](https://static-content.springer.com/esm/art%3A10.1186%2F2042-5783-3-2/MediaObjects/13309_2013_25_MOESM4_ESM.jpeg)"
   ]
  },
  {
   "cell_type": "markdown",
   "metadata": {},
   "source": [
    "- Mauve is a Java-based tool for multiple alignment of whole genomes, with a built-in viewer and the option to export comparative genomic information in various forms. \n",
    "\n",
    "- Its alignment functions can also be used to order and orient contigs against an existing assembly. Mauve takes as input a set of genome assemblies, and generates a multiple whole-genome alignment.\n",
    "\n",
    "- It identifies blocks of sequence homology, and assigns each block a unique colour. Each genome can then be visualized as a sequence of these coloured sequence blocks, facilitating visualization of the genome comparisons.\n",
    "\n",
    "- This makes it easy to identify regions that are conserved among the whole set of input genomes, and regions that are unique to subsets of genomes (islands).\n",
    "\n"
   ]
  },
  {
   "cell_type": "markdown",
   "metadata": {},
   "source": [
    "Website: http://darlinglab.org/mauve/mauve.html\n",
    "\n",
    "Inputs: These will be your newly assembled contigs and a reference genome , a closely-related strain with a complete genome.\n",
    "\n",
    "Manual: http://darlinglab.org/mauve/user-guide/reordering.html"
   ]
  },
  {
   "cell_type": "code",
   "execution_count": null,
   "metadata": {},
   "outputs": [],
   "source": []
  },
  {
   "cell_type": "markdown",
   "metadata": {},
   "source": [
    "## Genomic analysis of E. coli\n",
    "\n",
    "- After we get the contigs of the sample, we could continue to identify the serotypes, MLST (Multi Locus Sequence Type), virulence genes, and antimicrobial resistance of E. coli\n",
    "- We can use web-based software: http://www.genomicepidemiology.org/services/\n",
    "- Download your sample contigs file, using WinSCP (for windows): https://winscp.net/eng/download.php, or using SCP command from Terminal (for Mac)"
   ]
  },
  {
   "cell_type": "code",
   "execution_count": null,
   "metadata": {},
   "outputs": [],
   "source": []
  },
  {
   "cell_type": "markdown",
   "metadata": {},
   "source": [
    "## Phylogenetic Analysis\n",
    "\n",
    "- We can compared our E. coli samples to another common E. coli strains by making Phylogenetic Tree\n",
    "- we can use PhaMe pipeline (https://phame.readthedocs.io/en/latest/)\n",
    "- PhaME pipelines which applied a maximum likelihood phylogeny by RAxML v7.2.8, with the GTR model of nucleotide substitution, for model of rate heterogeneity; we can use use the GAMMA, and 100 bootstrap replicates. \n",
    "- The phylogeny was midpointrooted and diagramed using the interactive Tree of Life software (iTOL v.6) (https://itol.embl.de)"
   ]
  }
 ],
 "metadata": {
  "kernelspec": {
   "display_name": "Python 3",
   "language": "python",
   "name": "python3"
  },
  "language_info": {
   "codemirror_mode": {
    "name": "ipython",
    "version": 3
   },
   "file_extension": ".py",
   "mimetype": "text/x-python",
   "name": "python",
   "nbconvert_exporter": "python",
   "pygments_lexer": "ipython3",
   "version": "3.8.5"
  }
 },
 "nbformat": 4,
 "nbformat_minor": 4
}
