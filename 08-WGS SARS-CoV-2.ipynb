{
 "cells": [
  {
   "cell_type": "markdown",
   "metadata": {},
   "source": [
    "# Whole Genome Sequencing of SARS-CoV-2\n",
    "\n",
    "This tutorial was written by [Rafika I. Paramita](https://github.com/fikaparamita04) that adapted (with modification) from [Utah DoH ARTIC/Illumina Bioinformatic Workflow (Erin Young/Kelly Oakeson)](https://github.com/CDCgov/SARS-CoV-2_Sequencing/tree/master/protocols/BFX-UT_ARTIC_Illumina)\n",
    "\n",
    "This workflow is to analyze WGS of SARS-CoV-2 that uses ARTICv3 amplicons, sequenced on Illumina.\n",
    "\n",
    "You can copy the sample files from directory: /home/ref/sars-cov-2/samples/\n",
    "\n"
   ]
  },
  {
   "cell_type": "markdown",
   "metadata": {},
   "source": [
    "STEP 1. Map Illumina reads to the reference (NC_045512; ARTIC default), and sort with samtools. This will also sort and remove unmapped reads:"
   ]
  },
  {
   "cell_type": "code",
   "execution_count": null,
   "metadata": {},
   "outputs": [],
   "source": [
    "bwa mem -t {threads} /home/ref/sars-cov-2/cov_ref/NC_045512.fasta {input.read1} {input.read2} | samtools sort | samtools view -F 4 -o {sample}.sorted.bam"
   ]
  },
  {
   "cell_type": "markdown",
   "metadata": {},
   "source": [
    "STEP 2. Trim the primers off of the bam sequences using ivar:"
   ]
  },
  {
   "cell_type": "code",
   "execution_count": null,
   "metadata": {},
   "outputs": [],
   "source": [
    "ivar trim -e -i {sample}.sorted.bam -b /home/ref/sars-cov-2/cov_ref/nCoV-2019_v3.bed -p {sample}.primertrim"
   ]
  },
  {
   "cell_type": "markdown",
   "metadata": {},
   "source": [
    "STEP 3. Re-sort your bams:"
   ]
  },
  {
   "cell_type": "code",
   "execution_count": null,
   "metadata": {},
   "outputs": [],
   "source": [
    "samtools sort {sample}.primertrim.bam -o {sample}.primertrim.sorted.bam"
   ]
  },
  {
   "cell_type": "markdown",
   "metadata": {},
   "source": [
    "STEP 4. Get the consensus fasta that includes all the variants found, without replacing missing sequence with reference (missing sequence simply becomes \"N\"). The samtools mpileup options listed are those given in ivar's manual, and might not be the best options for our needs:"
   ]
  },
  {
   "cell_type": "code",
   "execution_count": null,
   "metadata": {},
   "outputs": [],
   "source": [
    "samtools mpileup -A -d 1000 -B -Q 0 --reference /home/ref/sars-cov-2/cov_ref/NC_045512.fasta {sample}.primertrim.sorted.bam | ivar consensus -p {sample}.consensus -n N"
   ]
  },
  {
   "cell_type": "markdown",
   "metadata": {},
   "source": [
    "STEP 5. QC options:"
   ]
  },
  {
   "cell_type": "code",
   "execution_count": null,
   "metadata": {},
   "outputs": [],
   "source": [
    "samtools coverage {sample}.sorted.bam -o {sample}.samcov.txt"
   ]
  },
  {
   "cell_type": "markdown",
   "metadata": {},
   "source": [
    "STEP 6. Variant predictions.\n",
    "\n",
    "You can use Nextstrain webserver to analyse the variants: https://clades.nextstrain.org/\n",
    "1. Upload / drop your consensus.fasta\n",
    "2. Choose the reference"
   ]
  }
 ],
 "metadata": {
  "kernelspec": {
   "display_name": "Python 3",
   "language": "python",
   "name": "python3"
  },
  "language_info": {
   "codemirror_mode": {
    "name": "ipython",
    "version": 3
   },
   "file_extension": ".py",
   "mimetype": "text/x-python",
   "name": "python",
   "nbconvert_exporter": "python",
   "pygments_lexer": "ipython3",
   "version": "3.8.5"
  }
 },
 "nbformat": 4,
 "nbformat_minor": 4
}
